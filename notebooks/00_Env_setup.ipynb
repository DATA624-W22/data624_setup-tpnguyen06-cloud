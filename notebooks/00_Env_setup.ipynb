{
 "cells": [
  {
   "cell_type": "markdown",
   "id": "d8aa692e-39bc-481c-a735-97b13dad850b",
   "metadata": {},
   "source": [
    "# Environment Setup"
   ]
  },
  {
   "cell_type": "markdown",
   "id": "0467427d-bfb2-42ec-9026-134d39812ecf",
   "metadata": {},
   "source": [
    "**Detailed installation**:\n",
    "\n",
    "Visit Anaconda Linux Installation [webpage](https://docs.anaconda.com/anaconda/install/linux/#installation).\n",
    "\n",
    "\n",
    "**TL;DR:**\n",
    "\n",
    "```\n",
    "wget https://repo.anaconda.com/archive/Anaconda3-2021.11-Linux-x86_64.sh\n",
    "```\n",
    "\n",
    "After succesfull instalation,\n",
    "\n",
    "```\n",
    "source ~/.bashrc\n",
    "```\n",
    "\n",
    "Then:\n",
    "```\n",
    "conda init\n",
    "```"
   ]
  },
  {
   "cell_type": "markdown",
   "id": "857ab533-99b5-4744-b629-5a4514e277f3",
   "metadata": {},
   "source": [
    "Now we're ready to create our environment.\n",
    "\n",
    "In this course, we are going to use the `DATA624_env` conda environment. To install this environment run the following command on your WSL/Linux terminal: \n",
    "\n",
    "```\n",
    "conda env create -f env/DATA624_env.yml\n",
    "```\n",
    "\n",
    "it will take couple of minutes! ☕\n",
    "\n",
    "Activate it with:\n",
    "\n",
    "```\n",
    "conda activate DATA624_env.yml\n",
    "```\n",
    "\n",
    "and just to finish, add the kernel of our env to jupyter-lab!\n",
    "\n",
    "```\n",
    "python -m ipykernel install --user --name DATA624_env --display-name\n",
    "\n",
    "```\n",
    "\n",
    "Now we are ready to use our environment!"
   ]
  }
 ],
 "metadata": {
  "kernelspec": {
   "display_name": "DATA624_env",
   "language": "python",
   "name": "data624_env"
  },
  "language_info": {
   "codemirror_mode": {
    "name": "ipython",
    "version": 3
   },
   "file_extension": ".py",
   "mimetype": "text/x-python",
   "name": "python",
   "nbconvert_exporter": "python",
   "pygments_lexer": "ipython3",
   "version": "3.8.12"
  }
 },
 "nbformat": 4,
 "nbformat_minor": 5
}
